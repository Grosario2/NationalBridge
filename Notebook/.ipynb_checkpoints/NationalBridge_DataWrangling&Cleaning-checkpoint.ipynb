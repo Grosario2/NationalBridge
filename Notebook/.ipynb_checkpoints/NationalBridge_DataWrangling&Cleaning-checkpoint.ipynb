{
 "cells": [
  {
   "cell_type": "markdown",
   "id": "a0e9f950",
   "metadata": {},
   "source": [
    "## National Bridge"
   ]
  },
  {
   "cell_type": "markdown",
   "id": "c14fdbef",
   "metadata": {},
   "source": [
    "## Contents<a id='2.1_Contents'></a>\n",
    "* [1 Dataset Overview](#1_Dataset_overview)\n",
    "  * [1.1 Dataset Description](#1.1_Dataset_description)\n",
    "  * [1.2 Dataset Sources](#1.2_Dataset_sources)\n",
    "  * [1.3 Goals](#1.3_Goals)\n",
    "* [2 Load data](#2_Load_data)"
   ]
  },
  {
   "cell_type": "markdown",
   "id": "45e549fa-d167-4d7c-a749-8a703c83167b",
   "metadata": {},
   "source": [
    "## 1 Dataset Overview<a id='#1_dataset_overview'></a>"
   ]
  },
  {
   "cell_type": "markdown",
   "id": "ad0e708e-e371-4317-b1a5-74aeb153fd64",
   "metadata": {},
   "source": [
    "### 1.1 Dataset Description<a id='#1.1_Dataset_description'></a>"
   ]
  },
  {
   "cell_type": "markdown",
   "id": "437bf259-16e1-42ee-b80d-3c9dc3d466f1",
   "metadata": {},
   "source": []
  },
  {
   "cell_type": "markdown",
   "id": "f7200064-45f8-4940-9c9f-65953923c60b",
   "metadata": {},
   "source": [
    "### 1.2 Dataset Sources<a id='#1.2_Dataset_sources'></a>"
   ]
  },
  {
   "cell_type": "markdown",
   "id": "6c683a91-b313-4578-bad6-6ea0e6975134",
   "metadata": {},
   "source": []
  },
  {
   "cell_type": "markdown",
   "id": "cfd1482e-8f03-46e0-84b6-7eca5ac9279d",
   "metadata": {},
   "source": [
    "### 1.3 Goals<a id='#1.2_Goals'></a>"
   ]
  },
  {
   "cell_type": "markdown",
   "id": "c5343881-712b-461a-a347-78e3ea163d4e",
   "metadata": {},
   "source": [
    "The objective of the data wrangling and cleaning process is to import the dataset and determine the following points:\n",
    "\n",
    "* Are there any fundamental issues with the dataset (e.g. data types, units, missing values). \n",
    "* Is the target value in the dataset? \n",
    "* Are all the important features in the dataset?"
   ]
  },
  {
   "cell_type": "markdown",
   "id": "68f47319-6a70-4d7c-9c3e-1f24b3ff7771",
   "metadata": {},
   "source": [
    "Dataset description\n",
    "Dataset sources\n",
    "Dataset goal\n",
    "\n",
    "\n",
    "Steps\n",
    "1. Load data\n",
    "2. Cleaning\n",
    "3. EDA\n",
    "4. Modeling\n",
    "\n"
   ]
  },
  {
   "cell_type": "markdown",
   "id": "2c2aa9b1",
   "metadata": {},
   "source": [
    "## 2 Load data<a id='2_Load_data'></a>"
   ]
  },
  {
   "cell_type": "code",
   "execution_count": 2,
   "id": "071a9956",
   "metadata": {
    "tags": []
   },
   "outputs": [],
   "source": [
    "#Import pandas, matplotlib.pyplot, and seaborn.\n",
    "import pandas as pd\n",
    "import matplotlib.pyplot as plt\n",
    "import seaborn as sns\n",
    "import os\n"
   ]
  },
  {
   "cell_type": "code",
   "execution_count": 4,
   "id": "f9c402b9",
   "metadata": {
    "tags": []
   },
   "outputs": [],
   "source": [
    "# the supplied CSV data file is the raw_data directory\n",
    "bridge = pd.read_csv('../Data/Last_Year_All_Field_Bridges.csv', low_memory=False)"
   ]
  },
  {
   "cell_type": "code",
   "execution_count": 5,
   "id": "6015ff30",
   "metadata": {
    "tags": []
   },
   "outputs": [
    {
     "data": {
      "text/html": [
       "<div>\n",
       "<style scoped>\n",
       "    .dataframe tbody tr th:only-of-type {\n",
       "        vertical-align: middle;\n",
       "    }\n",
       "\n",
       "    .dataframe tbody tr th {\n",
       "        vertical-align: top;\n",
       "    }\n",
       "\n",
       "    .dataframe thead th {\n",
       "        text-align: right;\n",
       "    }\n",
       "</style>\n",
       "<table border=\"1\" class=\"dataframe\">\n",
       "  <thead>\n",
       "    <tr style=\"text-align: right;\">\n",
       "      <th></th>\n",
       "      <th>1 - State Code</th>\n",
       "      <th>1 - State Name</th>\n",
       "      <th>8 - Structure Number</th>\n",
       "      <th>22 - Owner Agency</th>\n",
       "      <th>3 - County Code</th>\n",
       "      <th>3 - County Name</th>\n",
       "      <th>4 - Place Code</th>\n",
       "      <th>City - InfoBridge Place Code</th>\n",
       "      <th>City - InfoBridge Place Name</th>\n",
       "      <th>27 - Year Built</th>\n",
       "      <th>...</th>\n",
       "      <th>Number of Snowfall Days</th>\n",
       "      <th>Number of Days with Measurable Precipitation</th>\n",
       "      <th>Number of Days with Temperature Below 0?C</th>\n",
       "      <th>Prevailing Wind Direction</th>\n",
       "      <th>Time of Wetness</th>\n",
       "      <th>Total Precipitation</th>\n",
       "      <th>Metropolitan Planning Organization (MPO)</th>\n",
       "      <th>U.S. Congressional District</th>\n",
       "      <th>State Senate District</th>\n",
       "      <th>State House District</th>\n",
       "    </tr>\n",
       "  </thead>\n",
       "  <tbody>\n",
       "    <tr>\n",
       "      <th>0</th>\n",
       "      <td>13</td>\n",
       "      <td>Georgia</td>\n",
       "      <td>080302000018486</td>\n",
       "      <td>U.S. Forest Service</td>\n",
       "      <td>291</td>\n",
       "      <td>Union County</td>\n",
       "      <td>0</td>\n",
       "      <td>0</td>\n",
       "      <td>No Place Code</td>\n",
       "      <td>2012</td>\n",
       "      <td>...</td>\n",
       "      <td>NaN</td>\n",
       "      <td>141.0</td>\n",
       "      <td>76.0</td>\n",
       "      <td>158.63</td>\n",
       "      <td>4325.0</td>\n",
       "      <td>1558.15</td>\n",
       "      <td>NaN</td>\n",
       "      <td>09 - Congressional District 9</td>\n",
       "      <td>051 - State Senate District 51</td>\n",
       "      <td>008 - State House District 8</td>\n",
       "    </tr>\n",
       "    <tr>\n",
       "      <th>1</th>\n",
       "      <td>13</td>\n",
       "      <td>Georgia</td>\n",
       "      <td>080306000018570</td>\n",
       "      <td>U.S. Forest Service</td>\n",
       "      <td>241</td>\n",
       "      <td>Rabun County</td>\n",
       "      <td>0</td>\n",
       "      <td>0</td>\n",
       "      <td>No Place Code</td>\n",
       "      <td>2010</td>\n",
       "      <td>...</td>\n",
       "      <td>NaN</td>\n",
       "      <td>141.0</td>\n",
       "      <td>74.0</td>\n",
       "      <td>151.58</td>\n",
       "      <td>4453.0</td>\n",
       "      <td>1501.58</td>\n",
       "      <td>NaN</td>\n",
       "      <td>09 - Congressional District 9</td>\n",
       "      <td>050 - State Senate District 50</td>\n",
       "      <td>008 - State House District 8</td>\n",
       "    </tr>\n",
       "    <tr>\n",
       "      <th>2</th>\n",
       "      <td>13</td>\n",
       "      <td>Georgia</td>\n",
       "      <td>080305000003059</td>\n",
       "      <td>U.S. Forest Service</td>\n",
       "      <td>241</td>\n",
       "      <td>Rabun County</td>\n",
       "      <td>0</td>\n",
       "      <td>0</td>\n",
       "      <td>No Place Code</td>\n",
       "      <td>1990</td>\n",
       "      <td>...</td>\n",
       "      <td>NaN</td>\n",
       "      <td>141.0</td>\n",
       "      <td>76.0</td>\n",
       "      <td>158.63</td>\n",
       "      <td>4325.0</td>\n",
       "      <td>1558.15</td>\n",
       "      <td>NaN</td>\n",
       "      <td>09 - Congressional District 9</td>\n",
       "      <td>050 - State Senate District 50</td>\n",
       "      <td>008 - State House District 8</td>\n",
       "    </tr>\n",
       "    <tr>\n",
       "      <th>3</th>\n",
       "      <td>13</td>\n",
       "      <td>Georgia</td>\n",
       "      <td>000000005100670</td>\n",
       "      <td>State Highway Agency</td>\n",
       "      <td>51</td>\n",
       "      <td>Chatham County</td>\n",
       "      <td>0</td>\n",
       "      <td>78036</td>\n",
       "      <td>Tybee Island city</td>\n",
       "      <td>1962</td>\n",
       "      <td>...</td>\n",
       "      <td>NaN</td>\n",
       "      <td>NaN</td>\n",
       "      <td>NaN</td>\n",
       "      <td>NaN</td>\n",
       "      <td>NaN</td>\n",
       "      <td>NaN</td>\n",
       "      <td>13198301 - Coastal Region MPO, GA</td>\n",
       "      <td>01 - Congressional District 1</td>\n",
       "      <td>001 - State Senate District 1</td>\n",
       "      <td>166 - State House District 166</td>\n",
       "    </tr>\n",
       "    <tr>\n",
       "      <th>4</th>\n",
       "      <td>13</td>\n",
       "      <td>Georgia</td>\n",
       "      <td>000000005150150</td>\n",
       "      <td>County Highway Agency</td>\n",
       "      <td>51</td>\n",
       "      <td>Chatham County</td>\n",
       "      <td>0</td>\n",
       "      <td>0</td>\n",
       "      <td>No Place Code</td>\n",
       "      <td>1975</td>\n",
       "      <td>...</td>\n",
       "      <td>NaN</td>\n",
       "      <td>NaN</td>\n",
       "      <td>NaN</td>\n",
       "      <td>NaN</td>\n",
       "      <td>NaN</td>\n",
       "      <td>NaN</td>\n",
       "      <td>13198301 - Coastal Region MPO, GA</td>\n",
       "      <td>01 - Congressional District 1</td>\n",
       "      <td>001 - State Senate District 1</td>\n",
       "      <td>166 - State House District 166</td>\n",
       "    </tr>\n",
       "  </tbody>\n",
       "</table>\n",
       "<p>5 rows × 143 columns</p>\n",
       "</div>"
      ],
      "text/plain": [
       "   1 - State Code 1 - State Name 8 - Structure Number      22 - Owner Agency  \\\n",
       "0              13        Georgia      080302000018486    U.S. Forest Service   \n",
       "1              13        Georgia      080306000018570    U.S. Forest Service   \n",
       "2              13        Georgia      080305000003059    U.S. Forest Service   \n",
       "3              13        Georgia      000000005100670   State Highway Agency   \n",
       "4              13        Georgia      000000005150150  County Highway Agency   \n",
       "\n",
       "   3 - County Code 3 - County Name  4 - Place Code  \\\n",
       "0              291    Union County               0   \n",
       "1              241    Rabun County               0   \n",
       "2              241    Rabun County               0   \n",
       "3               51  Chatham County               0   \n",
       "4               51  Chatham County               0   \n",
       "\n",
       "   City - InfoBridge Place Code City - InfoBridge Place Name  27 - Year Built  \\\n",
       "0                             0                No Place Code             2012   \n",
       "1                             0                No Place Code             2010   \n",
       "2                             0                No Place Code             1990   \n",
       "3                         78036            Tybee Island city             1962   \n",
       "4                             0                No Place Code             1975   \n",
       "\n",
       "   ...  Number of Snowfall Days Number of Days with Measurable Precipitation  \\\n",
       "0  ...                      NaN                                        141.0   \n",
       "1  ...                      NaN                                        141.0   \n",
       "2  ...                      NaN                                        141.0   \n",
       "3  ...                      NaN                                          NaN   \n",
       "4  ...                      NaN                                          NaN   \n",
       "\n",
       "  Number of Days with Temperature Below 0?C  Prevailing Wind Direction  \\\n",
       "0                                      76.0                     158.63   \n",
       "1                                      74.0                     151.58   \n",
       "2                                      76.0                     158.63   \n",
       "3                                       NaN                        NaN   \n",
       "4                                       NaN                        NaN   \n",
       "\n",
       "   Time of Wetness Total Precipitation  \\\n",
       "0           4325.0             1558.15   \n",
       "1           4453.0             1501.58   \n",
       "2           4325.0             1558.15   \n",
       "3              NaN                 NaN   \n",
       "4              NaN                 NaN   \n",
       "\n",
       "  Metropolitan Planning Organization (MPO)    U.S. Congressional District  \\\n",
       "0                                      NaN  09 - Congressional District 9   \n",
       "1                                      NaN  09 - Congressional District 9   \n",
       "2                                      NaN  09 - Congressional District 9   \n",
       "3        13198301 - Coastal Region MPO, GA  01 - Congressional District 1   \n",
       "4        13198301 - Coastal Region MPO, GA  01 - Congressional District 1   \n",
       "\n",
       "            State Senate District            State House District  \n",
       "0  051 - State Senate District 51    008 - State House District 8  \n",
       "1  050 - State Senate District 50    008 - State House District 8  \n",
       "2  050 - State Senate District 50    008 - State House District 8  \n",
       "3   001 - State Senate District 1  166 - State House District 166  \n",
       "4   001 - State Senate District 1  166 - State House District 166  \n",
       "\n",
       "[5 rows x 143 columns]"
      ]
     },
     "execution_count": 5,
     "metadata": {},
     "output_type": "execute_result"
    }
   ],
   "source": [
    "bridge.head()"
   ]
  },
  {
   "cell_type": "code",
   "execution_count": null,
   "id": "c1c786de-db63-488a-bab5-718f46f2d476",
   "metadata": {},
   "outputs": [],
   "source": []
  },
  {
   "cell_type": "code",
   "execution_count": null,
   "id": "d19ab18b",
   "metadata": {},
   "outputs": [],
   "source": []
  },
  {
   "cell_type": "code",
   "execution_count": null,
   "id": "df84aaa2",
   "metadata": {},
   "outputs": [],
   "source": []
  },
  {
   "cell_type": "code",
   "execution_count": null,
   "id": "3f4b566f",
   "metadata": {},
   "outputs": [],
   "source": []
  },
  {
   "cell_type": "code",
   "execution_count": null,
   "id": "139642ee",
   "metadata": {},
   "outputs": [],
   "source": []
  }
 ],
 "metadata": {
  "kernelspec": {
   "display_name": "Python 3 (ipykernel)",
   "language": "python",
   "name": "python3"
  },
  "language_info": {
   "codemirror_mode": {
    "name": "ipython",
    "version": 3
   },
   "file_extension": ".py",
   "mimetype": "text/x-python",
   "name": "python",
   "nbconvert_exporter": "python",
   "pygments_lexer": "ipython3",
   "version": "3.11.5"
  },
  "toc-autonumbering": false,
  "toc-showmarkdowntxt": false
 },
 "nbformat": 4,
 "nbformat_minor": 5
}
